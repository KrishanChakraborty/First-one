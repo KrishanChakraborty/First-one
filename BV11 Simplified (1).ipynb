{
 "cells": [
  {
   "cell_type": "markdown",
   "metadata": {},
   "source": [
    "Selection of Parameters:"
   ]
  },
  {
   "cell_type": "code",
   "execution_count": 47,
   "metadata": {},
   "outputs": [],
   "source": [
    "prime=27\n",
    "dimention=8\n",
    "number_of_rows=36"
   ]
  },
  {
   "cell_type": "markdown",
   "metadata": {},
   "source": [
    "Generation of Public Key and Secret Key:"
   ]
  },
  {
   "cell_type": "code",
   "execution_count": 48,
   "metadata": {},
   "outputs": [],
   "source": [
    "import random\n",
    "T=MatrixSpace(IntegerModRing(prime),number_of_rows,dimention)\n",
    "V_1=IntegerModRing(prime)^dimention\n",
    "V_2=IntegerModRing(prime)^number_of_rows\n",
    "V_3=IntegerModRing(prime)^(dimention**2)\n",
    "V_4=IntegerModRing()^(dimention**2)\n",
    "l=[]\n",
    "for i in range(number_of_rows):\n",
    "    x=V_1.random_element()\n",
    "    l.append(list(x))\n",
    "    \n",
    "A=T(l)\n",
    "s=[]\n",
    "for i in range(dimention):\n",
    "    if i==0:\n",
    "        s.append(1)\n",
    "    else:\n",
    "        s.append(random.choice([0,1]))\n",
    "        \n",
    "secret_key=V_1(vector(s))\n",
    "e=A*secret_key\n"
   ]
  },
  {
   "cell_type": "code",
   "execution_count": 49,
   "metadata": {},
   "outputs": [
    {
     "name": "stdout",
     "output_type": "stream",
     "text": [
      "The public keys:\n",
      "[24 11  1  8  9 23 10 10]\n",
      "[15  5  7 13  5 13  1 25]\n",
      "[ 2 22 19  3 24  6  0  8]\n",
      "[ 2 11 19  9  1 24  0 13]\n",
      "[ 2 10 21  6 25  2  4  0]\n",
      "[ 2 17 16 26  2 19 24  1]\n",
      "[16 19  4 18 10 21 24  0]\n",
      "[10  0 12 20 15 20 20  9]\n",
      "[24 15  4 14 11  3 12  7]\n",
      "[12 17 21  0 17 13  9 26]\n",
      "[24 23  4 23 20 14  5 18]\n",
      "[21 10 11 13 15  2 23 13]\n",
      "[ 6  0  7 21  3 22 22 26]\n",
      "[18 15 13 18 24  9  5 25]\n",
      "[15  9 20  3 13 12 13 13]\n",
      "[15  9  5 21  2 22 17  3]\n",
      "[14 20 12  2  8 22 23 11]\n",
      "[20  8 25 12  3  6 24  1]\n",
      "[26  4 24 15 15 12 13 25]\n",
      "[10  9 17  7 25 21 14 26]\n",
      "[20  6 17 18 24  8  6  8]\n",
      "[14 10 15 19 15 11 24  6]\n",
      "[24 15  0 23  4  6  3  3]\n",
      "[ 5 14 12 25  6  6  8  0]\n",
      "[ 0  8 26 26 10 25 15 23]\n",
      "[ 5 22 20 17 16  2  7  5]\n",
      "[19 13 22 20 14 21 16  9]\n",
      "[20 10  6 10 20 19 15 12]\n",
      "[ 2 10 24 16 17 15 18  0]\n",
      "[14 23  5  1 20 23  6  9]\n",
      "[23 16  5  9 25 11  0 16]\n",
      "[14  2  9 13 19 17 25 21]\n",
      "[ 5 10  0 14 21 19 24  2]\n",
      "[ 2  3 11 10  6 12  8 20]\n",
      "[16 13  7  4  6 16 18 26]\n",
      "[12 15 17 11 21  8  0 18]\n",
      "and\n",
      "The secret key:\n",
      "(1, 1, 0, 1, 0, 1, 1, 0)\n"
     ]
    }
   ],
   "source": [
    "while True:\n",
    "    u=V_2.random_element()\n",
    "    t=abs(ZZ(u.dot_product(e)))\n",
    "    if t<int(prime/4):\n",
    "        break\n",
    "\n",
    "print(\"The public keys:\")\n",
    "print(A)\n",
    "print('and')\n",
    "#print(u)\n",
    "print(\"The secret key:\")\n",
    "print(secret_key)\n"
   ]
  },
  {
   "cell_type": "markdown",
   "metadata": {},
   "source": [
    "The Encryption:"
   ]
  },
  {
   "cell_type": "code",
   "execution_count": 50,
   "metadata": {},
   "outputs": [
    {
     "name": "stdout",
     "output_type": "stream",
     "text": [
      "Give a one bit message:1\n",
      "The encrypted vector:\n",
      "(0, 21, 25, 21, 8, 2, 13, 15)\n"
     ]
    }
   ],
   "source": [
    "def raw_encryption(m):\n",
    "    cip=[m]+[0 for i in range(dimention-1)]\n",
    "    cip_1=V_1(vector(cip))\n",
    "\n",
    "    c=cip_1+2*u*A\n",
    "    return c\n",
    "\n",
    "m=int(input(\"Give a one bit message:\"))\n",
    "print(\"The encrypted vector:\")\n",
    "print(raw_encryption(m))\n"
   ]
  },
  {
   "cell_type": "markdown",
   "metadata": {},
   "source": [
    "The Decryption:\n",
    "(With no decryption error)"
   ]
  },
  {
   "cell_type": "code",
   "execution_count": 51,
   "metadata": {},
   "outputs": [
    {
     "name": "stdout",
     "output_type": "stream",
     "text": [
      "Give the encrypted vector to decrypt\n",
      "0, 21, 25, 21, 8, 2, 13, 15\n",
      "The message is: 1\n"
     ]
    }
   ],
   "source": [
    "def raw_decryption(e_vector):\n",
    "    e_vector_1=V_1(vector(e_vector))\n",
    "    f=ZZ(e_vector_1*secret_key)\n",
    "    if f%2==1:\n",
    "        return 1\n",
    "    else:\n",
    "        return 0\n",
    "\n",
    "print(\"Give the encrypted vector to decrypt\")    \n",
    "e_vector=list(map(int,input().split(', ')))    \n",
    "print(\"The message is:\", raw_decryption(e_vector))"
   ]
  },
  {
   "cell_type": "markdown",
   "metadata": {},
   "source": [
    "Encryption in terms of binary components with the help of the functions BitDecomp and Powerof2:"
   ]
  },
  {
   "cell_type": "code",
   "execution_count": 52,
   "metadata": {},
   "outputs": [
    {
     "name": "stdout",
     "output_type": "stream",
     "text": [
      "Give a one bit message:0\n",
      "The encrypted vector:\n",
      "(26, 21, 25, 21, 8, 2, 13, 15)\n",
      "The encryption in terms of binary components:\n",
      "(1, 1, 0, 1, 0, 1, 0, 1, 0, 1, 1, 1, 0, 0, 1, 1, 0, 1, 0, 1, 0, 1, 0, 0, 0, 0, 0, 0, 1, 0, 0, 1, 1, 0, 1, 0, 1, 1, 1, 1)\n",
      "\n",
      "\n",
      "The associated new secret key:\n",
      "(16, 8, 4, 2, 1, 16, 8, 4, 2, 1, 0, 0, 0, 0, 0, 16, 8, 4, 2, 1, 0, 0, 0, 0, 0, 16, 8, 4, 2, 1, 16, 8, 4, 2, 1, 0, 0, 0, 0, 0)\n"
     ]
    }
   ],
   "source": [
    "def binary_c(n,prime):\n",
    "    q=n\n",
    "    l=[]\n",
    "    while q!=0:\n",
    "        r=q%2\n",
    "        q=int(q/2)\n",
    "        l.append(r)\n",
    "        \n",
    "    l.reverse()     \n",
    "    m=int(log(prime,2).n(digits=4))+1\n",
    "    q=m-len(l)\n",
    "    if q>0:\n",
    "        return [0 for i in range(q)]+l\n",
    "    else:\n",
    "        return l\n",
    "    \n",
    "def BitDecomp(target):\n",
    "    l=[]\n",
    "    for i in range(len(target)):\n",
    "        s=binary_c(ZZ(target[i]),prime)\n",
    "        l=l+s\n",
    "        \n",
    "    return vector(l)\n",
    "\n",
    "def Bit_encryption(m):\n",
    "    \n",
    "    return BitDecomp(raw_encryption(m))\n",
    "\n",
    "def Powerof2(target,limit):\n",
    "    l=[]\n",
    "    for i in range(len(target)):\n",
    "        comp=ZZ(target[i])\n",
    "        for j in range(limit+1):\n",
    "            l.append(2**(limit-j)*comp)\n",
    "            \n",
    "    return vector(l)   \n",
    "\n",
    "secret_key_new= Powerof2(secret_key,int(log(prime,2).n(digits=4)))\n",
    "\n",
    "m=int(input('Give a one bit message:'))\n",
    "print(\"The encrypted vector:\")\n",
    "print(raw_encryption(m))\n",
    "print(\"The encryption in terms of binary components:\")\n",
    "print(Bit_encryption(m)) \n",
    "print('\\n')\n",
    "print('The associated new secret key:' )\n",
    "print(secret_key_new)\n"
   ]
  },
  {
   "cell_type": "markdown",
   "metadata": {},
   "source": [
    "Corresponding Bit level Decryption:\n",
    "(With no decryption error)"
   ]
  },
  {
   "cell_type": "code",
   "execution_count": 53,
   "metadata": {},
   "outputs": [
    {
     "name": "stdout",
     "output_type": "stream",
     "text": [
      "Give the encrypted binary vector to decrypt\n",
      "1, 1, 0, 1, 0, 1, 0, 1, 0, 1, 1, 1, 0, 0, 1, 1, 0, 1, 0, 1, 0, 1, 0, 0, 0, 0, 0, 0, 1, 0, 0, 1, 1, 0, 1, 0, 1, 1, 1, 1\n",
      "The message is: 0\n"
     ]
    }
   ],
   "source": [
    "def Bit_decryption(e_vector):\n",
    "    e_vector_1=vector(e_vector)\n",
    "    \n",
    "    f=ZZ(e_vector_1*secret_key_new) % prime\n",
    "    if f%2 == 1:\n",
    "        return 1\n",
    "    else:\n",
    "        return 0\n",
    "\n",
    "print('Give the encrypted binary vector to decrypt')    \n",
    "e_vector=list(map(int,input().split(', ')))\n",
    "print(\"The message is:\", Bit_decryption(e_vector))"
   ]
  },
  {
   "cell_type": "markdown",
   "metadata": {},
   "source": [
    "Homomorphic multiplication operation on LWE ciphertext with additional relinearization:"
   ]
  },
  {
   "cell_type": "code",
   "execution_count": 60,
   "metadata": {},
   "outputs": [
    {
     "name": "stdout",
     "output_type": "stream",
     "text": [
      "Give a one bit message m_1:0\n",
      "Give a one bit message m_2:1\n",
      "A new LWE ciphertext of the multiplied message m_1m_2 = 0 is obtained by homomorphic multiplication which is the following LWE encrypted vector \n",
      "(0, 6, 2, 6, 19, 25, 14, 12, 0, 9, 12, 9, 6, 15, 3, 18, 0, 12, 4, 12, 11, 23, 1, 24, 0, 9, 12, 9, 6, 15, 3, 18, 0, 6, 11, 6, 10, 16, 23, 12, 0, 15, 23, 15, 16, 4, 26, 3, 0, 3, 1, 3, 23, 26, 7, 6, 0, 18, 24, 18, 12, 3, 6, 9)\n",
      "The associated new secret key: (1, 1, 0, 1, 0, 1, 1, 0, 1, 1, 0, 1, 0, 1, 1, 0, 0, 0, 0, 0, 0, 0, 0, 0, 1, 1, 0, 1, 0, 1, 1, 0, 0, 0, 0, 0, 0, 0, 0, 0, 1, 1, 0, 1, 0, 1, 1, 0, 1, 1, 0, 1, 0, 1, 1, 0, 0, 0, 0, 0, 0, 0, 0, 0)\n"
     ]
    }
   ],
   "source": [
    "def homomorphic_multiplication(m_1,m_2):\n",
    "    c_1=raw_encryption(m_1)\n",
    "    c_2=raw_encryption(m_2)\n",
    "    \n",
    "    l=[]\n",
    "    for i in range(len(c_1)):\n",
    "        for j in range(len(c_2)):\n",
    "            l.append(ZZ(c_1[i]*c_2[j]))\n",
    "            \n",
    "    return V_3(vector(l))\n",
    "\n",
    "w=[]\n",
    "for i in range(len(secret_key)):\n",
    "    for j in range(len(secret_key)):\n",
    "        w.append(ZZ(secret_key[i]*secret_key[j]))\n",
    "        \n",
    "multiplied_secret_key=V_3(vector(w))\n",
    "m_1=int(input('Give a one bit message m_1:'))\n",
    "m_2=int(input('Give a one bit message m_2:'))\n",
    "print('A new LWE ciphertext of the multiplied message m_1m_2 =',m_1*m_2,'is obtained by homomorphic multiplication which is the following LWE encrypted vector ')\n",
    "print(homomorphic_multiplication(m_1,m_2))\n",
    "\n",
    "print('The associated new secret key:', multiplied_secret_key)\n"
   ]
  },
  {
   "cell_type": "markdown",
   "metadata": {},
   "source": [
    "Decryption of new LWE encrypted vector which is encryption of multiplied message m_1m_2:\n",
    "(Decryption error can occur with small probability if the modulus variable 'prime' is taken to be an odd number)"
   ]
  },
  {
   "cell_type": "code",
   "execution_count": 61,
   "metadata": {},
   "outputs": [
    {
     "name": "stdout",
     "output_type": "stream",
     "text": [
      "Give the multiplied LWE ciphertext to decrypt:\n",
      "0, 6, 2, 6, 19, 25, 14, 12, 0, 9, 12, 9, 6, 15, 3, 18, 0, 12, 4, 12, 11, 23, 1, 24, 0, 9, 12, 9, 6, 15, 3, 18, 0, 6, 11, 6, 10, 16, 23, 12, 0, 15, 23, 15, 16, 4, 26, 3, 0, 3, 1, 3, 23, 26, 7, 6, 0, 18, 24, 18, 12, 3, 6, 9\n",
      "The message is: 0\n"
     ]
    }
   ],
   "source": [
    "def homomorphic_multiplication_decryption(e_vector):\n",
    "    e_vector_1=V_4(vector(e_vector))\n",
    "    e_vector_2=V_4(multiplied_secret_key)\n",
    "    f=(e_vector_1*e_vector_2) % prime\n",
    "    \n",
    "    if f%2 ==1:\n",
    "        return 1\n",
    "    else:\n",
    "        return 0\n",
    "\n",
    "print('Give the multiplied LWE ciphertext to decrypt:')    \n",
    "e_vector=list(map(int,input().split(', ')))\n",
    "print('The message is:', homomorphic_multiplication_decryption(e_vector))"
   ]
  },
  {
   "cell_type": "markdown",
   "metadata": {},
   "source": [
    "Multiplied ciphertext in terms of binary components:"
   ]
  },
  {
   "cell_type": "code",
   "execution_count": 62,
   "metadata": {},
   "outputs": [
    {
     "name": "stdout",
     "output_type": "stream",
     "text": [
      "Give a one bit message m_1:1\n",
      "Give a one bit message m_2:1\n",
      "The new LWE ciphertext of the multiplied message m_1m_2 = 1 in terms of binary components:\n",
      "(0, 0, 0, 0, 0, 0, 0, 0, 0, 0, 0, 0, 0, 0, 0, 0, 0, 0, 0, 0, 0, 0, 0, 0, 0, 0, 0, 0, 0, 0, 0, 0, 0, 0, 0, 0, 0, 0, 0, 0, 0, 0, 0, 0, 0, 0, 1, 0, 0, 1, 0, 1, 1, 0, 0, 0, 1, 0, 0, 1, 0, 0, 1, 1, 0, 0, 1, 1, 1, 1, 0, 0, 0, 1, 1, 1, 0, 0, 1, 0, 0, 0, 0, 0, 0, 0, 1, 1, 0, 0, 0, 0, 1, 0, 0, 0, 1, 1, 0, 0, 0, 1, 0, 1, 1, 1, 0, 1, 1, 1, 0, 0, 0, 0, 1, 1, 1, 0, 0, 0, 0, 0, 0, 0, 0, 0, 1, 0, 0, 1, 0, 1, 1, 0, 0, 0, 1, 0, 0, 1, 0, 0, 1, 1, 0, 0, 1, 1, 1, 1, 0, 0, 0, 1, 1, 1, 0, 0, 1, 0, 0, 0, 0, 0, 0, 0, 0, 1, 1, 0, 0, 1, 0, 1, 1, 0, 0, 1, 1, 0, 0, 1, 0, 1, 0, 1, 0, 0, 0, 0, 1, 0, 1, 1, 1, 0, 1, 1, 0, 0, 0, 0, 0, 0, 0, 0, 1, 1, 1, 1, 1, 0, 1, 1, 1, 0, 1, 1, 1, 1, 1, 0, 0, 0, 0, 0, 0, 1, 0, 0, 1, 1, 0, 1, 0, 0, 0, 0, 1, 1, 0, 0, 0, 0, 0, 0, 0, 0, 1, 1, 0, 0, 0, 0, 1, 0, 0, 0, 1, 1, 1, 0, 1, 1, 1, 1, 1, 0, 1, 0, 0, 0, 1, 1, 1, 0, 0, 1, 1, 0, 0, 0, 0, 0, 0, 1, 0, 0, 1, 0, 1, 1, 0, 0, 0, 1, 0, 0, 1, 0, 0, 1, 1, 0, 0, 0, 0, 0, 1, 1, 0, 0, 1, 1, 0, 0, 1, 0, 0, 1)\n",
      "The associated secret key:\n",
      "(16, 8, 4, 2, 1, 16, 8, 4, 2, 1, 0, 0, 0, 0, 0, 16, 8, 4, 2, 1, 0, 0, 0, 0, 0, 16, 8, 4, 2, 1, 16, 8, 4, 2, 1, 0, 0, 0, 0, 0, 16, 8, 4, 2, 1, 16, 8, 4, 2, 1, 0, 0, 0, 0, 0, 16, 8, 4, 2, 1, 0, 0, 0, 0, 0, 16, 8, 4, 2, 1, 16, 8, 4, 2, 1, 0, 0, 0, 0, 0, 0, 0, 0, 0, 0, 0, 0, 0, 0, 0, 0, 0, 0, 0, 0, 0, 0, 0, 0, 0, 0, 0, 0, 0, 0, 0, 0, 0, 0, 0, 0, 0, 0, 0, 0, 0, 0, 0, 0, 0, 16, 8, 4, 2, 1, 16, 8, 4, 2, 1, 0, 0, 0, 0, 0, 16, 8, 4, 2, 1, 0, 0, 0, 0, 0, 16, 8, 4, 2, 1, 16, 8, 4, 2, 1, 0, 0, 0, 0, 0, 0, 0, 0, 0, 0, 0, 0, 0, 0, 0, 0, 0, 0, 0, 0, 0, 0, 0, 0, 0, 0, 0, 0, 0, 0, 0, 0, 0, 0, 0, 0, 0, 0, 0, 0, 0, 0, 0, 0, 0, 16, 8, 4, 2, 1, 16, 8, 4, 2, 1, 0, 0, 0, 0, 0, 16, 8, 4, 2, 1, 0, 0, 0, 0, 0, 16, 8, 4, 2, 1, 16, 8, 4, 2, 1, 0, 0, 0, 0, 0, 16, 8, 4, 2, 1, 16, 8, 4, 2, 1, 0, 0, 0, 0, 0, 16, 8, 4, 2, 1, 0, 0, 0, 0, 0, 16, 8, 4, 2, 1, 16, 8, 4, 2, 1, 0, 0, 0, 0, 0, 0, 0, 0, 0, 0, 0, 0, 0, 0, 0, 0, 0, 0, 0, 0, 0, 0, 0, 0, 0, 0, 0, 0, 0, 0, 0, 0, 0, 0, 0, 0, 0, 0, 0, 0, 0, 0, 0, 0, 0)\n"
     ]
    }
   ],
   "source": [
    "def bit_homomorphic_multiplication(m_1,m_2):\n",
    "    c=homomorphic_multiplication(m_1,m_2)\n",
    "    \n",
    "    return BitDecomp(c)\n",
    "\n",
    "multiplied_secret_key_new = Powerof2(multiplied_secret_key,int(log(prime,2).n(digits=4)))\n",
    "\n",
    "m_1=int(input('Give a one bit message m_1:'))\n",
    "m_2=int(input('Give a one bit message m_2:'))\n",
    "print('The new LWE ciphertext of the multiplied message m_1m_2 =',m_1*m_2,'in terms of binary components:')\n",
    "print(bit_homomorphic_multiplication(m_1,m_2))\n",
    "print('The associated secret key:')\n",
    "print(multiplied_secret_key_new)\n"
   ]
  },
  {
   "cell_type": "markdown",
   "metadata": {},
   "source": [
    "Relinearization in order to get back an LWE ciphertext of reduced length in Z_prime^(dimention) of multiplied message m_1m_2:"
   ]
  },
  {
   "cell_type": "code",
   "execution_count": 70,
   "metadata": {},
   "outputs": [
    {
     "name": "stdout",
     "output_type": "stream",
     "text": [
      "Give one bit message m_1:0\n",
      "Give one bit message m_2:1\n",
      "A relinearized LWE ciphertext of the multiplied message m_1m_2 = 0 : (12, 9, 12, 9, 6, 15, 3, 18)\n",
      "The associated homomorphically multiplied LWE ciphertext is:  (0, 0, 0, 0, 0, 0, 0, 1, 1, 0, 0, 0, 0, 1, 0, 0, 0, 1, 1, 0, 1, 0, 0, 1, 1, 1, 1, 0, 0, 1, 0, 1, 1, 1, 0, 0, 1, 1, 0, 0, 0, 0, 0, 0, 0, 0, 1, 0, 0, 1, 0, 1, 1, 0, 0, 0, 1, 0, 0, 1, 0, 0, 1, 1, 0, 0, 1, 1, 1, 1, 0, 0, 0, 1, 1, 1, 0, 0, 1, 0, 0, 0, 0, 0, 0, 0, 1, 1, 0, 0, 0, 0, 1, 0, 0, 0, 1, 1, 0, 0, 0, 1, 0, 1, 1, 1, 0, 1, 1, 1, 0, 0, 0, 0, 1, 1, 1, 0, 0, 0, 0, 0, 0, 0, 0, 0, 1, 0, 0, 1, 0, 1, 1, 0, 0, 0, 1, 0, 0, 1, 0, 0, 1, 1, 0, 0, 1, 1, 1, 1, 0, 0, 0, 1, 1, 1, 0, 0, 1, 0, 0, 0, 0, 0, 0, 0, 0, 1, 1, 0, 0, 1, 0, 1, 1, 0, 0, 1, 1, 0, 0, 1, 0, 1, 0, 1, 0, 0, 0, 0, 1, 0, 1, 1, 1, 0, 1, 1, 0, 0, 0, 0, 0, 0, 0, 0, 1, 1, 1, 1, 1, 0, 1, 1, 1, 0, 1, 1, 1, 1, 1, 0, 0, 0, 0, 0, 0, 1, 0, 0, 1, 1, 0, 1, 0, 0, 0, 0, 1, 1, 0, 0, 0, 0, 0, 0, 0, 0, 1, 1, 0, 0, 0, 0, 1, 0, 0, 0, 1, 1, 1, 0, 1, 1, 1, 1, 1, 0, 1, 0, 0, 0, 1, 1, 1, 0, 0, 1, 1, 0, 0, 0, 0, 0, 0, 1, 0, 0, 1, 0, 1, 1, 0, 0, 0, 1, 0, 0, 1, 0, 0, 1, 1, 0, 0, 0, 0, 0, 1, 1, 0, 0, 1, 1, 0, 0, 1, 0, 0, 1)\n"
     ]
    }
   ],
   "source": [
    "def relinearization(m_1,m_2):\n",
    "    c=homomorphic_multiplication(m_1,m_2)\n",
    "    \n",
    "    c_1=BitDecomp(c)\n",
    "    t=[]\n",
    "    for i in range(len(multiplied_secret_key_new)):\n",
    "        t.append(raw_encryption(ZZ(multiplied_secret_key_new[i])))\n",
    "        \n",
    "    d=V_1(vector([0 for i in range(dimention)]))\n",
    "    for i in range(len(t)):\n",
    "        d=d+IntegerModRing(prime)(c_1[i])*t[i]\n",
    "        \n",
    "    return (d,c_1)\n",
    "\n",
    "m_1=int(input('Give one bit message m_1:'))\n",
    "m_2=int(input('Give one bit message m_2:'))\n",
    "print('A relinearized LWE ciphertext of the multiplied message m_1m_2 =',m_1*m_2,':', relinearization(m_1,m_2)[0])\n",
    "print('The associated homomorphically multiplied LWE ciphertext is: ', relinearization(m_1,m_2)[1] )\n"
   ]
  },
  {
   "cell_type": "markdown",
   "metadata": {},
   "source": [
    "The decryption for going back to the original multiplied message:\n",
    "(Decryption error can occur with small probability if modulus is taken to be an odd number)"
   ]
  },
  {
   "cell_type": "code",
   "execution_count": 71,
   "metadata": {},
   "outputs": [
    {
     "name": "stdout",
     "output_type": "stream",
     "text": [
      "Give the relinearized LWE ciphertext of multiplied message of the choices for decryption:\n",
      "12, 9, 12, 9, 6, 15, 3, 18\n",
      "The message is: 1\n"
     ]
    }
   ],
   "source": [
    "print('Give the relinearized LWE ciphertext of multiplied message of the choices for decryption:')\n",
    "e_vector=list(map(int,input().split(', ')))\n",
    "print('The message is:', raw_decryption(e_vector))\n"
   ]
  },
  {
   "cell_type": "markdown",
   "metadata": {},
   "source": [
    "Homomorphic addition operation on LWE ciphertexts can be done by adding the LWE encrypted vectors:\n",
    "The message space is GF(2).    "
   ]
  },
  {
   "cell_type": "code",
   "execution_count": 74,
   "metadata": {},
   "outputs": [
    {
     "name": "stdout",
     "output_type": "stream",
     "text": [
      "Give the set of one bit messages to perform homomorphic addition on ciphertexts:\n",
      "1 0 1 1 0 1\n",
      "The LWE ciphertext of the added message m_1+m_2+...= 0 is the encrypted vector:\n",
      "(25, 18, 15, 18, 21, 12, 24, 9)\n"
     ]
    }
   ],
   "source": [
    "def homomorphic_addition(l):\n",
    "    t=[]\n",
    "    for i in range(len(l)):\n",
    "        t.append(raw_encryption(l[i]))\n",
    "        \n",
    "    d=V_1(vector([0 for i in range(dimention)]))\n",
    "    for i in range(len(t)):\n",
    "        d=d+t[i]\n",
    "        \n",
    "    return d\n",
    "\n",
    "print('Give the set of one bit messages to perform homomorphic addition on ciphertexts:')\n",
    "l=list(map(int,input().split()))\n",
    "print('The LWE ciphertext of the added message m_1+m_2+...=',sum(l)%2,'is the encrypted vector:')\n",
    "print(homomorphic_addition(l))        "
   ]
  },
  {
   "cell_type": "code",
   "execution_count": 75,
   "metadata": {},
   "outputs": [
    {
     "name": "stdout",
     "output_type": "stream",
     "text": [
      "Give the homomorphically added ciphertext:\n",
      "25, 18, 15, 18, 21, 12, 24, 9\n",
      "The retreived message is: 0\n"
     ]
    }
   ],
   "source": [
    "print('Give the homomorphically added ciphertext:')\n",
    "e_vector=list(map(int,input().split(', ')))\n",
    "print('The retreived message is:', raw_decryption(e_vector))\n"
   ]
  },
  {
   "cell_type": "code",
   "execution_count": null,
   "metadata": {},
   "outputs": [],
   "source": []
  }
 ],
 "metadata": {
  "kernelspec": {
   "display_name": "SageMath 9.0",
   "language": "sage",
   "name": "sagemath"
  },
  "language_info": {
   "codemirror_mode": {
    "name": "ipython",
    "version": 3
   },
   "file_extension": ".py",
   "mimetype": "text/x-python",
   "name": "python",
   "nbconvert_exporter": "python",
   "pygments_lexer": "ipython3",
   "version": "3.7.3"
  }
 },
 "nbformat": 4,
 "nbformat_minor": 2
}
