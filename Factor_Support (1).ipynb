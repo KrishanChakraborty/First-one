{
 "cells": [
  {
   "cell_type": "code",
   "execution_count": 6,
   "metadata": {},
   "outputs": [
    {
     "name": "stdout",
     "output_type": "stream",
     "text": [
      "List of extracted powers : \n",
      "\n",
      "[[4, 3, 0], [3, 1, 2], [6, 1, 1], [4, 1, 3], [3, 5, 2]]\n",
      "\n",
      "\n",
      "The matrix : \n",
      "\n",
      "[0 1 0]\n",
      "[1 1 0]\n",
      "[0 1 1]\n",
      "[0 1 1]\n",
      "[1 1 0]\n",
      "\n",
      "\n",
      "List of c_i s \n",
      " \n",
      "(0, 1, 0, 0, 1)\n",
      "Coefficients :\n",
      "\n",
      "c_ 1  :  0\n",
      "c_ 2  :  1\n",
      "c_ 3  :  0\n",
      "c_ 4  :  0\n",
      "c_ 5  :  1\n"
     ]
    }
   ],
   "source": [
    "k=[2,3,5]\n",
    "l=[432,600,960,6000,48600]\n",
    "M=MatrixSpace(GF(2),len(l),len(k))\n",
    "v=VectorSpace(GF(2),len(k))\n",
    "    \n",
    "f=[]\n",
    "for x in l:\n",
    "    i=str(factor(x))\n",
    "    j=i.split('*')\n",
    "    base=[]\n",
    "    r=0\n",
    "    u=0\n",
    "    while(True):\n",
    "        for v in range(u,len(k)):\n",
    "            if x%k[v]!=0:\n",
    "                base.append(0)\n",
    "            else:\n",
    "                break\n",
    "                \n",
    "        if r>len(j)-1:\n",
    "            pass\n",
    "            \n",
    "        elif '^' in j[r]:\n",
    "            df=j[r].split('^')\n",
    "            base.append(int(df[1]))\n",
    "        else:\n",
    "            base.append(1)\n",
    "        \n",
    "        r=r+1\n",
    "        u=v+1\n",
    "        if u==len(k):\n",
    "            break\n",
    "        \n",
    "    f.append(base)   \n",
    "    \n",
    "print('List of extracted powers : \\n')    \n",
    "            \n",
    "print(f) \n",
    "print('\\n')\n",
    "\n",
    "print('The matrix : \\n')\n",
    "A=M(f)\n",
    "print(A)\n",
    "print('\\n')\n",
    "\n",
    "coefficients=kernel(A)\n",
    "\n",
    "print('List of c_i s \\n ')\n",
    "print(coefficients[1])\n",
    "print('Coefficients :\\n')\n",
    "\n",
    "i=1\n",
    "for x in coefficients[1]:\n",
    "    print('c_',i,' : ', x)\n",
    "    i=i+1\n",
    "    \n",
    "    \n"
   ]
  },
  {
   "cell_type": "code",
   "execution_count": null,
   "metadata": {},
   "outputs": [],
   "source": []
  }
 ],
 "metadata": {
  "kernelspec": {
   "display_name": "SageMath 9.0",
   "language": "sage",
   "name": "sagemath"
  },
  "language_info": {
   "codemirror_mode": {
    "name": "ipython",
    "version": 3
   },
   "file_extension": ".py",
   "mimetype": "text/x-python",
   "name": "python",
   "nbconvert_exporter": "python",
   "pygments_lexer": "ipython3",
   "version": "3.7.3"
  }
 },
 "nbformat": 4,
 "nbformat_minor": 2
}
