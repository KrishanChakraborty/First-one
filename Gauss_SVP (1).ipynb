{
 "cells": [
  {
   "cell_type": "code",
   "execution_count": 1,
   "metadata": {},
   "outputs": [
    {
     "name": "stdout",
     "output_type": "stream",
     "text": [
      " 1 th lattice basis vector : 45646 776\n",
      " 2 th lattice basis vector : 10101 788\n",
      "Output :  (383, -5540)\n"
     ]
    }
   ],
   "source": [
    "from gmpy2 import *\n",
    "T=VectorSpace(QQ,2)\n",
    "\n",
    "# Gauss Algorithm to solve SVP in dimention 2.\n",
    "def reduce(l):\n",
    "    \n",
    "    def loop(a,b):\n",
    "        c=int(2*b.norm()/a.norm()+0.5)\n",
    "        x=(b-a).norm()\n",
    "        t=b-a\n",
    "        for i in range(1,c+1):\n",
    "            y=(b-i*a).norm()\n",
    "            if y<x:\n",
    "                x=y\n",
    "                t=b-i*a\n",
    "                \n",
    "        b=t\n",
    "        if (a-b).norm()>(a+b).norm():\n",
    "            b=-b\n",
    "        if max([a.norm(),b.norm()])<=(a+b).norm() and max([a.norm(),b.norm()])<=(a-b).norm():\n",
    "            return [a,b]\n",
    "        else:\n",
    "            (a,b)=(b,a)\n",
    "            return loop(a,b)\n",
    "        \n",
    "    (a,b)=(l[0],l[1])\n",
    "    if a.norm() > b.norm():\n",
    "        (a,b)=(b,a)\n",
    "    if (a-b).norm() > (a+b).norm():\n",
    "        b = -b\n",
    "    if b.norm() <= (a-b).norm():\n",
    "        return [a,b]\n",
    "    \n",
    "    if a.norm() <= (a-b).norm():\n",
    "        return loop(a,b)\n",
    "    else: \n",
    "        if a.norm()==b.norm():\n",
    "            return [a,a-b]\n",
    "        else:\n",
    "            (a,b)=(b-a,-a)\n",
    "            return loop(a,b)\n",
    "\n",
    "def gauss_svp(l):\n",
    "    s=reduce(l)\n",
    "    \n",
    "    if s[0].norm()<=s[1].norm():\n",
    "        return s[0]\n",
    "    else:\n",
    "        return s[1]\n",
    "    \n",
    "\n",
    "P=[]\n",
    "for i in range(2): \n",
    "    v=list(input(' {} th lattice basis vector : '.format(i+1)).split())\n",
    "    v=[QQ(mpq(v[i])) for i in range(len(v))]\n",
    "    P.append(T(vector(v)))\n",
    "    \n",
    "\n",
    "print('Output : ', gauss_svp(P))\n"
   ]
  },
  {
   "cell_type": "code",
   "execution_count": null,
   "metadata": {},
   "outputs": [],
   "source": []
  }
 ],
 "metadata": {
  "kernelspec": {
   "display_name": "SageMath 9.0",
   "language": "sage",
   "name": "sagemath"
  },
  "language_info": {
   "codemirror_mode": {
    "name": "ipython",
    "version": 3
   },
   "file_extension": ".py",
   "mimetype": "text/x-python",
   "name": "python",
   "nbconvert_exporter": "python",
   "pygments_lexer": "ipython3",
   "version": "3.7.3"
  }
 },
 "nbformat": 4,
 "nbformat_minor": 2
}
