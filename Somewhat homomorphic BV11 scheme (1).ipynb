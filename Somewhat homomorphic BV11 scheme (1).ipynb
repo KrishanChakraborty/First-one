{
 "cells": [
  {
   "cell_type": "markdown",
   "metadata": {},
   "source": [
    "Implementation of Regev's LWE based encryption:"
   ]
  },
  {
   "cell_type": "markdown",
   "metadata": {},
   "source": [
    "Selection of parameters:\n",
    "(parameter L indicates the maximal multiplicative depth that the scheme can homomorphically evaluate)"
   ]
  },
  {
   "cell_type": "code",
   "execution_count": 43,
   "metadata": {},
   "outputs": [],
   "source": [
    "prime=37\n",
    "dimention=5\n",
    "number_of_rows=30\n",
    "L=3"
   ]
  },
  {
   "cell_type": "markdown",
   "metadata": {},
   "source": [
    "Generation of public keys, homomorphic evaluation key and secret key:"
   ]
  },
  {
   "cell_type": "code",
   "execution_count": 44,
   "metadata": {},
   "outputs": [
    {
     "name": "stdout",
     "output_type": "stream",
     "text": [
      "The public keys:\n",
      "[32 16 28 12 35]\n",
      "[27 11 11 14 18]\n",
      "[21  7 12 35  2]\n",
      "[21 21  8  8 12]\n",
      "[30 10 26 23 15]\n",
      "[ 7 26 36 11 18]\n",
      "[12  9 28 24  8]\n",
      "[ 1 29  2 29  2]\n",
      "[ 7  0 29 20 27]\n",
      "[ 7 20 33  9 28]\n",
      "[35 33 16  6 34]\n",
      "[ 3  2 13 23 31]\n",
      "[ 7  2 35 19 11]\n",
      "[34 29  9 33  2]\n",
      "[20  1  3 25 27]\n",
      "[35 16 33 14 24]\n",
      "[ 3 16 35 34 11]\n",
      "[21  2 34 23 25]\n",
      "[ 4 19 29  6 23]\n",
      "[ 7 30  3 14 10]\n",
      "[ 0  2 10 36 18]\n",
      "[ 7 28 19 31  4]\n",
      "[12 26 31 20  2]\n",
      "[ 6 22 28  8 10]\n",
      "[30 10 36 29 34]\n",
      "[36 27 13 36  8]\n",
      "[24 15 21  6 22]\n",
      "[ 6  9 32 26 18]\n",
      "[20 14 22 14 35]\n",
      "[10  9 13 29 21]\n",
      "and\n",
      "(13, 18, 17, 10, 7, 14, 33, 34, 1, 5, 25, 16, 31, 26, 19, 19, 5, 25, 32, 5, 28, 16, 36, 0, 24, 20, 35, 12, 2, 35)\n",
      "The secret key: (13, 32, 22, 18, 3)\n"
     ]
    }
   ],
   "source": [
    "V_1=IntegerModRing(prime)^(dimention)\n",
    "V_2=IntegerModRing(prime)^(number_of_rows)\n",
    "V_3=IntegerModRing(prime)^(dimention+1)\n",
    "T=MatrixSpace(IntegerModRing(prime),number_of_rows,dimention)\n",
    "\n",
    "secret_keys=[]\n",
    "for i in range(L+1):\n",
    "    x=V_1.random_element()\n",
    "    x=[IntegerModRing(prime)(1)]+list(x)\n",
    "    secret_keys.append(V_3(x))\n",
    "\n",
    "l=[]\n",
    "for i in range(number_of_rows):\n",
    "    l.append(V_1.random_element())\n",
    "    \n",
    "A=T(l)\n",
    "e=V_2.random_element()\n",
    "b=A*secret_keys[0][1:]+2*e\n",
    "print('The public keys:')\n",
    "print(A)\n",
    "print('and')\n",
    "print(b)\n",
    "print('The secret key:',secret_keys[L-1][1:])\n"
   ]
  },
  {
   "cell_type": "markdown",
   "metadata": {},
   "source": [
    "Generation of freshly encrypted ciphertexts from input one bit messages"
   ]
  },
  {
   "cell_type": "code",
   "execution_count": 47,
   "metadata": {},
   "outputs": [
    {
     "name": "stdout",
     "output_type": "stream",
     "text": [
      "Give one bit message:0\n",
      "The encrypted LWE ciphertext: (((3, 9, 22, 21, 21), 2), 0)\n"
     ]
    }
   ],
   "source": [
    "import random\n",
    "l=[]\n",
    "for i in range(number_of_rows):\n",
    "    l.append(random.choice([0,1]))\n",
    "    \n",
    "pick=V_2(vector(l))\n",
    "def fresh_encryption(m):\n",
    "    v=pick*A\n",
    "    w=pick*b+IntegerModRing(prime)(m)\n",
    "    \n",
    "    return ((v,w),0)\n",
    "    \n",
    "m=int(input(\"Give one bit message:\"))\n",
    "print(\"The encrypted LWE ciphertext:\",fresh_encryption(m))\n"
   ]
  },
  {
   "cell_type": "code",
   "execution_count": 48,
   "metadata": {},
   "outputs": [
    {
     "data": {
      "text/plain": [
       "16"
      ]
     },
     "execution_count": 48,
     "metadata": {},
     "output_type": "execute_result"
    }
   ],
   "source": [
    "v=fresh_encryption(0)[0][0]\n",
    "w=fresh_encryption(0)[0][1]\n",
    "w-v*secret_keys[0][1:]"
   ]
  },
  {
   "cell_type": "code",
   "execution_count": 49,
   "metadata": {},
   "outputs": [
    {
     "name": "stdout",
     "output_type": "stream",
     "text": [
      "Give the first component of the cipher:3, 9, 22, 21, 21\n",
      "Give the second component of the cipher:2\n",
      "Give the multiplicative depth of the cipher:0\n",
      "The message is: 0\n"
     ]
    }
   ],
   "source": [
    "def evaluation_decryption(cipher):\n",
    "    i=cipher[1]\n",
    "    t=ZZ(cipher[0][1]-cipher[0][0]*secret_keys[i][1:])\n",
    "    if t%2==0:\n",
    "        return 0\n",
    "    else:\n",
    "        return 1\n",
    "    \n",
    "e_vector=list(map(int,input('Give the first component of the cipher:').split(', ')))\n",
    "e_vector=V_1(vector(e_vector))\n",
    "\n",
    "s=IntegerModRing(prime)(int(input('Give the second component of the cipher:')))\n",
    "l=int(input('Give the multiplicative depth of the cipher:'))\n",
    "\n",
    "print('The message is:', evaluation_decryption(((e_vector,s),l)))   "
   ]
  },
  {
   "cell_type": "markdown",
   "metadata": {},
   "source": [
    "Generation of homomorphic evaluation key for the somewhat homomorphic evaluation on ciphertexts:"
   ]
  },
  {
   "cell_type": "code",
   "execution_count": 50,
   "metadata": {},
   "outputs": [],
   "source": [
    "homomorphic_eval_key=[]\n",
    "for l in range(1,L+1):\n",
    "    r=[]\n",
    "    for i in range(0,dimention+1):\n",
    "        for j in range(i,dimention+1):\n",
    "            for k in range(0,int(log(prime,2).n(digits=4))+1):\n",
    "                x=V_1.random_element()\n",
    "                e=IntegerModRing(prime).random_element()\n",
    "                y=x*secret_keys[l][1:]+2*e+2**k*secret_keys[l-1][i]*secret_keys[l-1][j]\n",
    "                r.append((x,y))\n",
    "                \n",
    "    homomorphic_eval_key.append(r)\n",
    "    "
   ]
  },
  {
   "cell_type": "markdown",
   "metadata": {},
   "source": [
    "Homomorphic addition gate operation on arbitrary number of ciphertexts in the same multiplicative depth "
   ]
  },
  {
   "cell_type": "code",
   "execution_count": 51,
   "metadata": {},
   "outputs": [
    {
     "name": "stdout",
     "output_type": "stream",
     "text": [
      "First line for each input ciphertext should contain the first component of the ciphertext. Writting stop will stop the process of taking inputs\n",
      "11, 6, 7, 8, 91\n",
      "4\n",
      "43, 6, 71, 8, 10\n",
      "30\n",
      "1, 7, 9, 34, 0\n",
      "6\n",
      "stop\n",
      "Give the multiplicative depth of the ciphertexts:1\n",
      "The added ciphertext: (((18, 19, 13, 13, 27), 3), 1)\n"
     ]
    }
   ],
   "source": [
    "def homomorphic_addition(l,s):\n",
    "    v_add=V_1(vector([0 for i in range(dimention)]))\n",
    "    w_add=IntegerModRing(prime)(0)\n",
    "    for i in range(len(l)):\n",
    "        v_add=v_add+l[i][0]\n",
    "        w_add=w_add+l[i][1]\n",
    "        \n",
    "    return ((v_add,w_add),s)\n",
    "\n",
    "print('First line for each input ciphertext should contain the first component of the ciphertext. Writting stop will stop the process of taking inputs')\n",
    "ciphertexts=[]\n",
    "while True:\n",
    "    try:\n",
    "        r=V_1(vector(list(map(int,input().split(', ')))))\n",
    "        s=IntegerModRing(prime)(int(input()))\n",
    "        ciphertexts.append((r,s))\n",
    "    except ValueError:\n",
    "        x=int(input('Give the multiplicative depth of the ciphertexts:'))\n",
    "        break\n",
    "print('The added ciphertext:', homomorphic_addition(ciphertexts,x))              "
   ]
  },
  {
   "cell_type": "markdown",
   "metadata": {},
   "source": [
    "correction check for fresh encrypted ciphertexts\n",
    "(The message space is GF(2)) :"
   ]
  },
  {
   "cell_type": "code",
   "execution_count": 54,
   "metadata": {},
   "outputs": [
    {
     "name": "stdout",
     "output_type": "stream",
     "text": [
      "1 0 1 1 1\n",
      "The homomorphic evaluated encryption on the sum of the messages m_1+m_2+...= 0 : (((15, 8, 36, 31, 31), 14), 0)\n"
     ]
    }
   ],
   "source": [
    "def fresh_homomorphic_encryption(l):\n",
    "    c=[]\n",
    "    for i in range(len(l)):\n",
    "        c.append(fresh_encryption(l[i]))\n",
    "        \n",
    "    h=[c[i][0] for i in range(len(c))]\n",
    "    return homomorphic_addition(h,0)\n",
    "\n",
    "l=list(map(int,input().split()))\n",
    "print('The homomorphic evaluated encryption on the sum of the messages m_1+m_2+...=',sum(l)%2,':',fresh_homomorphic_encryption(l))\n"
   ]
  },
  {
   "cell_type": "code",
   "execution_count": 55,
   "metadata": {},
   "outputs": [
    {
     "name": "stdout",
     "output_type": "stream",
     "text": [
      "15, 8, 36, 31, 31\n",
      "14\n",
      "0\n",
      "The message is: 0\n"
     ]
    }
   ],
   "source": [
    "v=V_1(vector(list(map(int,input().split(', ')))))\n",
    "w=IntegerModRing(prime)(int(input()))\n",
    "s=int(input())\n",
    "print('The message is:', evaluation_decryption(((v,w),0)))"
   ]
  },
  {
   "cell_type": "markdown",
   "metadata": {},
   "source": [
    "Homomorphic multiplication gate on two ciphertext inputs in the same multiplicative depth:"
   ]
  },
  {
   "cell_type": "code",
   "execution_count": 56,
   "metadata": {},
   "outputs": [
    {
     "name": "stdout",
     "output_type": "stream",
     "text": [
      "Give two ciphertext inputs:\n",
      "First line for each input ciphertext should contain the first component of the ciphertext. Writting stop will stop the process of taking inputs\n",
      "11, 4, 7, 0, 67\n",
      "32\n",
      "6, 0, 98, 7, 8\n",
      "6\n",
      "stop\n",
      "Give the multiplicative depth of the ciphertexts:1\n",
      "The multiplied ciphertext: (((35, 0, 10, 22, 31), 9), 2)\n"
     ]
    }
   ],
   "source": [
    "def binary_c(n,prime):\n",
    "    q=n\n",
    "    l=[]\n",
    "    while q!=0:\n",
    "        r=q%2\n",
    "        q=int(q/2)\n",
    "        l.append(r)\n",
    "        \n",
    "    l.reverse()     \n",
    "    m=int(log(prime,2).n(digits=4))+1\n",
    "    q=m-len(l)\n",
    "    if q>0:\n",
    "        return [0 for i in range(q)]+l\n",
    "    else:\n",
    "        return l\n",
    "\n",
    "def homomorphic_multiplication(t,l):\n",
    "    (v_1,v_2)=(t[0][0],t[1][0])\n",
    "    (w_1,w_2)=(t[0][1],t[1][1])\n",
    "    v_1=V_3(vector([0]+list(v_1)))\n",
    "    v_2=V_3(vector([0]+list(v_2)))\n",
    "    coeff=[]\n",
    "    for i in range(0,dimention+1):\n",
    "        for j in range(i,dimention+1):\n",
    "            if i==0 and j==0:\n",
    "                x=w_1*w_2\n",
    "                coeff=coeff+binary_c(ZZ(x),prime)\n",
    "            elif i==0 and j!=0:\n",
    "                x=-(w_1*v_2[j]+w_2*v_1[j])\n",
    "                coeff=coeff+binary_c(ZZ(x),prime)\n",
    "            elif i!=0:\n",
    "                if i==j:\n",
    "                    x=v_1[i]*v_2[i]\n",
    "                    coeff=coeff+binary_c(ZZ(x),prime)\n",
    "                elif i!=j:\n",
    "                    x=v_1[i]*v_2[j]+v_1[j]*v_2[i]\n",
    "                    coeff=coeff+binary_c(ZZ(x),prime)\n",
    "                    \n",
    "    v_mult=V_1(vector([0 for i in range(dimention)]))\n",
    "    w_mult=IntegerModRing(prime)(0)\n",
    "    for i in range(len(coeff)):\n",
    "        v_mult=v_mult+IntegerModRing(prime)(coeff[i])*homomorphic_eval_key[l+1][i][0]\n",
    "        w_mult=w_mult+IntegerModRing(prime)(coeff[i])*homomorphic_eval_key[l+1][i][1]\n",
    "        \n",
    "    return ((v_mult,w_mult),l+1)\n",
    "\n",
    "print('Give two ciphertext inputs:')\n",
    "print('First line for each input ciphertext should contain the first component of the ciphertext. Writting stop will stop the process of taking inputs')\n",
    "ciphertexts=[]\n",
    "while True:\n",
    "    try:\n",
    "        r=V_1(vector(list(map(int,input().split(', ')))))\n",
    "        s=IntegerModRing(prime)(int(input()))\n",
    "        ciphertexts.append((r,s))\n",
    "    except ValueError:\n",
    "        x=int(input('Give the multiplicative depth of the ciphertexts:'))\n",
    "        break\n",
    "print('The multiplied ciphertext:', homomorphic_multiplication(ciphertexts,x))   \n",
    "   "
   ]
  },
  {
   "cell_type": "code",
   "execution_count": 63,
   "metadata": {},
   "outputs": [
    {
     "name": "stdout",
     "output_type": "stream",
     "text": [
      "one bit message:1\n",
      "one bit message:0\n",
      "multipled ciphertext of m_1m_2= 0 is (((25, 10, 23, 17, 8), 1), 1)\n"
     ]
    }
   ],
   "source": [
    "def evaluation_check(m_1,m_2):\n",
    "    c_1=fresh_encryption(m_1)\n",
    "    c_2=fresh_encryption(m_2)\n",
    "    return homomorphic_multiplication((c_1[0],c_2[0]),0)\n",
    "\n",
    "m_1=int(input('one bit message:'))\n",
    "m_2=int(input('one bit message:'))\n",
    "print('multipled ciphertext of m_1m_2=',m_1*m_2,'is', evaluation_check(m_1,m_2))"
   ]
  },
  {
   "cell_type": "code",
   "execution_count": 64,
   "metadata": {},
   "outputs": [
    {
     "name": "stdout",
     "output_type": "stream",
     "text": [
      "Give the first component of the cipher:25, 10, 23, 17, 8\n",
      "Give the second component of the cipher:1\n",
      "Give the multiplicative depth of the cipher:1\n",
      "The message is: 0\n"
     ]
    }
   ],
   "source": [
    "e_vector=list(map(int,input('Give the first component of the cipher:').split(', ')))\n",
    "e_vector=V_1(vector(e_vector))\n",
    "\n",
    "s=IntegerModRing(prime)(int(input('Give the second component of the cipher:')))\n",
    "l=int(input('Give the multiplicative depth of the cipher:'))\n",
    "\n",
    "print('The message is:', evaluation_decryption(((e_vector,s),l)))   "
   ]
  },
  {
   "cell_type": "markdown",
   "metadata": {},
   "source": [
    "In somewhat homomorphic BV11 scheme we only require to have the decryption of those ciphertexts with multiplicative depth L (the upper bound parameter we set at the beginning ). The ciphertexts with depth L can mainly arise through manipulation on ciphertexts in the intermidiate stages through a function f which is some combination of addition and multiplication gates such that total number of multiplication gates in f is L. The homomorphic evaluation starts from freshly encrypted ciphertexts from input messages. Here one example of evaluations is shown. "
   ]
  },
  {
   "cell_type": "code",
   "execution_count": 67,
   "metadata": {},
   "outputs": [
    {
     "name": "stdout",
     "output_type": "stream",
     "text": [
      "Initial input one bit messages:1 0 1 1 1\n",
      "(((31, 22, 20, 19, 26), 11), 2)\n"
     ]
    }
   ],
   "source": [
    "def evaluation(m_1,m_2,m_3,m_4,m_5):\n",
    "    c_1=fresh_encryption(m_1)\n",
    "    c_2=fresh_encryption(m_2)\n",
    "    c_3=fresh_encryption(m_3)\n",
    "    c_4=fresh_encryption(m_4)\n",
    "    c_5=fresh_encryption(m_5)\n",
    "    \n",
    "    c_new_1=homomorphic_addition([c_1[0],c_2[0]],c_1[1])\n",
    "    c_new_2=homomorphic_multiplication([c_new_1[0],c_3[0]],c_3[1])\n",
    "    c_new_3=homomorphic_multiplication([c_4[0],c_5[0]],c_4[1])\n",
    "    c_new_4=homomorphic_multiplication([c_new_2[0],c_new_3[0]],c_new_2[1])\n",
    "    \n",
    "    return c_new_4\n",
    "\n",
    "l=list(map(int,input('Initial input one bit messages:').split()))\n",
    "print(evaluation(l[0],l[1],l[2],l[3],l[4]))\n"
   ]
  },
  {
   "cell_type": "markdown",
   "metadata": {},
   "source": [
    "The decryption:"
   ]
  },
  {
   "cell_type": "code",
   "execution_count": 68,
   "metadata": {},
   "outputs": [
    {
     "name": "stdout",
     "output_type": "stream",
     "text": [
      "Give the first component of the cipher:31, 22, 20, 19, 26\n",
      "Give the second component of the cipher:11\n",
      "Give the multiplicative depth of the cipher:2\n",
      "The message is: 1\n"
     ]
    }
   ],
   "source": [
    "e_vector=list(map(int,input('Give the first component of the cipher:').split(', ')))\n",
    "e_vector=V_1(vector(e_vector))\n",
    "\n",
    "s=IntegerModRing(prime)(int(input('Give the second component of the cipher:')))\n",
    "l=int(input('Give the multiplicative depth of the cipher:'))\n",
    "\n",
    "print('The message is:', evaluation_decryption(((e_vector,s),l))) "
   ]
  },
  {
   "cell_type": "code",
   "execution_count": null,
   "metadata": {},
   "outputs": [],
   "source": []
  }
 ],
 "metadata": {
  "kernelspec": {
   "display_name": "SageMath 9.0",
   "language": "sage",
   "name": "sagemath"
  },
  "language_info": {
   "codemirror_mode": {
    "name": "ipython",
    "version": 3
   },
   "file_extension": ".py",
   "mimetype": "text/x-python",
   "name": "python",
   "nbconvert_exporter": "python",
   "pygments_lexer": "ipython3",
   "version": "3.7.3"
  }
 },
 "nbformat": 4,
 "nbformat_minor": 2
}
