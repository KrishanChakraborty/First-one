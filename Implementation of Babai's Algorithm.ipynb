{
 "cells": [
  {
   "cell_type": "code",
   "execution_count": 1,
   "metadata": {},
   "outputs": [
    {
     "name": "stdout",
     "output_type": "stream",
     "text": [
      "Give dimention :5\n",
      " 1 th lattice basis vector : 1 2/3 4/5 70 8/13\n",
      " 2 th lattice basis vector : 0 1/3 0 77 9/4\n",
      " 3 th lattice basis vector : 2 4/35 0 6 0\n",
      " 4 th lattice basis vector : 2/3 6/7 8 0 9\n",
      " 5 th lattice basis vector : 0 1 7 5/6 77\n",
      "Target vaector :4444/9 -77/101 8000 3311/2 55\n",
      "Output :  (1471/3, 331/35, 39978/5, 4976/3, 2659/52)\n"
     ]
    }
   ],
   "source": [
    "from gmpy2 import *\n",
    "\n",
    "# Babai's nerest plane algorithm for full rank lattice\n",
    "            \n",
    "def cvp_babai(B,target):\n",
    "    n=len(B)\n",
    "    M=MatrixSpace(QQ,n,n)\n",
    "    v=VectorSpace(QQ,n)\n",
    "    \n",
    "    B_LLL=M(Matrix(B)).LLL().rows()\n",
    "    T=M(Matrix(B_LLL))\n",
    "    \n",
    "    gram_B_LLL=T.gram_schmidt()[0].rows()\n",
    "    \n",
    "    b=v(target)\n",
    "    \n",
    "    \n",
    "    def task(B,target,dimention):\n",
    "        if dimention==1:\n",
    "            t_last=Rational(mpq(target.dot_product(v(gram_B_LLL[0]))/v(gram_B_LLL[0]).dot_product(v(gram_B_LLL[0]))))\n",
    "            d=Rational(mpq(1/2))\n",
    "            r=t_last+d\n",
    "            r_c=int(r)\n",
    "            y=r_c*v(B_LLL[0])\n",
    "            return y\n",
    "        else:\n",
    "            i=dimention-1\n",
    "            t_last=Rational(mpq(target.dot_product(v(gram_B_LLL[i]))/v(gram_B_LLL[i]).dot_product(v(gram_B_LLL[i]))))\n",
    "            d=Rational(mpq(1/2))\n",
    "            r=t_last+d\n",
    "            r_c=int(r)\n",
    "            y=r_c*v(B_LLL[i])\n",
    "            \n",
    "            target=target-(t_last-r_c)*v(gram_B_LLL[i])-r_c*v(B_LLL[i])\n",
    "            \n",
    "            dimention=dimention-1\n",
    "            return y+task(B,target,dimention)\n",
    "        \n",
    "        \n",
    "    return task(B,b,n)         \n",
    "                \n",
    "'''v=vector([1,2,3,8])\n",
    "w=vector([3,0,-3,6])\n",
    "z=vector([3,-7,3,0])\n",
    "o=vector([9,77,0,1])\n",
    "target_1=vector([1323,2202,-8,965])\n",
    "target_2=vector([225/8,77566/6,4/3,88])\n",
    "P=[v,w,z,o]\n",
    "print(cvp_babai(P,target_1))\n",
    "print(cvp_babai(P,target_2))'''\n",
    "\n",
    "n=int(input('Give dimention :'))\n",
    "P=[]\n",
    "for i in range(n): \n",
    "    v=list(input(' {} th lattice basis vector : '.format(i+1)).split())\n",
    "    v=[QQ(mpq(v[i])) for i in range(len(v))]\n",
    "    P.append(vector(v))\n",
    "    \n",
    "target=list(input('Target vaector :').split())\n",
    "target=[QQ(mpq(target[i])) for i in range(len(target))]\n",
    "\n",
    "target=vector(target)\n",
    "print('Output : ', cvp_babai(P,target))\n",
    "\n",
    "    "
   ]
  },
  {
   "cell_type": "code",
   "execution_count": null,
   "metadata": {},
   "outputs": [],
   "source": []
  }
 ],
 "metadata": {
  "kernelspec": {
   "display_name": "SageMath 9.0",
   "language": "sage",
   "name": "sagemath"
  },
  "language_info": {
   "codemirror_mode": {
    "name": "ipython",
    "version": 3
   },
   "file_extension": ".py",
   "mimetype": "text/x-python",
   "name": "python",
   "nbconvert_exporter": "python",
   "pygments_lexer": "ipython3",
   "version": "3.7.3"
  }
 },
 "nbformat": 4,
 "nbformat_minor": 2
}
