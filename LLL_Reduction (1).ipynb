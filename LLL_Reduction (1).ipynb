{
 "cells": [
  {
   "cell_type": "code",
   "execution_count": 5,
   "metadata": {},
   "outputs": [
    {
     "name": "stdout",
     "output_type": "stream",
     "text": [
      "Lattice Dimention :4\n",
      "Parameter :4/13\n",
      " 1 th lattice basis vector : 1 0 0 1\n",
      " 2 th lattice basis vector : 0 1 0 1\n",
      " 3 th lattice basis vector : 0 0 1 1\n",
      " 4 th lattice basis vector : 0 0 0 1\n",
      "None\n"
     ]
    }
   ],
   "source": [
    "from gmpy2 import *\n",
    "\n",
    "def LLL_reduce(B,x):\n",
    "    n=len(B)\n",
    "    M=MatrixSpace(QQ,n,n)\n",
    "    v=VectorSpace(QQ,n)\n",
    "    \n",
    "    T=M(Matrix(B))\n",
    "    \n",
    "    G_B=T.gram_schmidt()[0].rows()\n",
    "    \n",
    "    for i in range(n):\n",
    "        for j in range(i-1,-1,-1):\n",
    "            t=Rational(mpq(v(B[i]).dot_product(v(G_B[j]))/v(G_B[j]).dot_product(v(G_B[j]))))\n",
    "            r=Rational(mpq(1/2))\n",
    "            t_r=int(t+r)\n",
    "            B[i]=B[i]-t_r*B[j] \n",
    "            \n",
    "    c=0 \n",
    "    T=M(Matrix(B))\n",
    "    \n",
    "    G_B=T.gram_schmidt()[0].rows()\n",
    "    \n",
    "    \n",
    "    \n",
    "    \n",
    "    for i in range(n-1):\n",
    "        if x*G_B[i].norm()**2 > (G_B[i+1]+Rational(mpq(v(B[i+1]).dot_product(v(G_B[i]))/v(G_B[i]).dot_product(v(G_B[i]))))*G_B[i]).norm()**2:\n",
    "            c=1\n",
    "            (B[i],B[i+1])=(B[i+1],B[i])\n",
    "            break\n",
    "            \n",
    "    if c==0:\n",
    "        return B\n",
    "    \n",
    "    \n",
    "n=int(input('Lattice Dimention :'))\n",
    "x=input('Parameter :')\n",
    "x=Rational(mpq(x))\n",
    "B=[]\n",
    "\n",
    "for i in range(n):\n",
    "    v=list(input(' {} th lattice basis vector : '.format(i+1)).split(' '))\n",
    "    v=[QQ(mpq(v[i])) for i in range(len(v))]\n",
    "    B.append(vector(v))\n",
    "    \n",
    "    \n",
    "print(LLL_reduce(B,x))        \n",
    "    "
   ]
  },
  {
   "cell_type": "code",
   "execution_count": null,
   "metadata": {},
   "outputs": [],
   "source": []
  }
 ],
 "metadata": {
  "kernelspec": {
   "display_name": "SageMath 9.0",
   "language": "sage",
   "name": "sagemath"
  },
  "language_info": {
   "codemirror_mode": {
    "name": "ipython",
    "version": 3
   },
   "file_extension": ".py",
   "mimetype": "text/x-python",
   "name": "python",
   "nbconvert_exporter": "python",
   "pygments_lexer": "ipython3",
   "version": "3.7.3"
  }
 },
 "nbformat": 4,
 "nbformat_minor": 2
}
